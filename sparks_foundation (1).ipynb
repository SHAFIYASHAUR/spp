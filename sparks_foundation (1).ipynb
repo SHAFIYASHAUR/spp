{
  "nbformat": 4,
  "nbformat_minor": 0,
  "metadata": {
    "colab": {
      "name": "sparks foundation.ipynb",
      "provenance": [],
      "collapsed_sections": []
    },
    "kernelspec": {
      "name": "python3",
      "display_name": "Python 3"
    }
  },
  "cells": [
    {
      "cell_type": "markdown",
      "metadata": {
        "id": "uTZniVuS2nZG"
      },
      "source": [
        "**SPARKS FOUNDATION**\n",
        "\n"
      ]
    },
    {
      "cell_type": "code",
      "metadata": {
        "id": "yZDc4-sss3cR"
      },
      "source": [
        "# Import required libraries:\n",
        "import pandas as pd\n",
        "import numpy as np\n",
        "import matplotlib.pyplot as plt\n",
        "from sklearn import linear_model"
      ],
      "execution_count": null,
      "outputs": []
    },
    {
      "cell_type": "code",
      "metadata": {
        "id": "tqzwCNNw091x",
        "colab": {
          "base_uri": "https://localhost:8080/",
          "height": 195
        },
        "outputId": "80a5b5ee-799d-4a8e-962f-5f767239a70d"
      },
      "source": [
        "# Read the CSV file :\n",
        "data = pd.read_csv('http://bit.ly/w-data')\n",
        "data.head()"
      ],
      "execution_count": null,
      "outputs": [
        {
          "output_type": "execute_result",
          "data": {
            "text/html": [
              "<div>\n",
              "<style scoped>\n",
              "    .dataframe tbody tr th:only-of-type {\n",
              "        vertical-align: middle;\n",
              "    }\n",
              "\n",
              "    .dataframe tbody tr th {\n",
              "        vertical-align: top;\n",
              "    }\n",
              "\n",
              "    .dataframe thead th {\n",
              "        text-align: right;\n",
              "    }\n",
              "</style>\n",
              "<table border=\"1\" class=\"dataframe\">\n",
              "  <thead>\n",
              "    <tr style=\"text-align: right;\">\n",
              "      <th></th>\n",
              "      <th>Hours</th>\n",
              "      <th>Scores</th>\n",
              "    </tr>\n",
              "  </thead>\n",
              "  <tbody>\n",
              "    <tr>\n",
              "      <th>0</th>\n",
              "      <td>2.5</td>\n",
              "      <td>21</td>\n",
              "    </tr>\n",
              "    <tr>\n",
              "      <th>1</th>\n",
              "      <td>5.1</td>\n",
              "      <td>47</td>\n",
              "    </tr>\n",
              "    <tr>\n",
              "      <th>2</th>\n",
              "      <td>3.2</td>\n",
              "      <td>27</td>\n",
              "    </tr>\n",
              "    <tr>\n",
              "      <th>3</th>\n",
              "      <td>8.5</td>\n",
              "      <td>75</td>\n",
              "    </tr>\n",
              "    <tr>\n",
              "      <th>4</th>\n",
              "      <td>3.5</td>\n",
              "      <td>30</td>\n",
              "    </tr>\n",
              "  </tbody>\n",
              "</table>\n",
              "</div>"
            ],
            "text/plain": [
              "   Hours  Scores\n",
              "0    2.5      21\n",
              "1    5.1      47\n",
              "2    3.2      27\n",
              "3    8.5      75\n",
              "4    3.5      30"
            ]
          },
          "metadata": {
            "tags": []
          },
          "execution_count": 4
        }
      ]
    },
    {
      "cell_type": "code",
      "metadata": {
        "id": "a8pi15M51mpb"
      },
      "source": [
        "# Let’s select some features to explore more :\n",
        "data = data[[\"Hours\",\"Scores\"]]"
      ],
      "execution_count": null,
      "outputs": []
    },
    {
      "cell_type": "code",
      "metadata": {
        "id": "3LrHiozy2_mV",
        "colab": {
          "base_uri": "https://localhost:8080/",
          "height": 279
        },
        "outputId": "a2692115-602e-452b-cb7b-0dc9b4ac3409"
      },
      "source": [
        "# HOURS vs SCORES:\n",
        "plt.scatter(data['Hours'] , data['Scores'] , color='blue')\n",
        "plt.xlabel('Hours')\n",
        "plt.ylabel('Scores')\n",
        "plt.show()"
      ],
      "execution_count": null,
      "outputs": [
        {
          "output_type": "display_data",
          "data": {
            "image/png": "[encoded data removed]",
            "text/plain": [
              "<Figure size 432x288 with 1 Axes>"
            ]
          },
          "metadata": {
            "tags": [],
            "needs_background": "light"
          }
        }
      ]
    },
    {
      "cell_type": "code",
      "metadata": {
        "id": "Qi4guElw30SB"
      },
      "source": [
        "# Generating training and testing data from our data:\n",
        "# We are using 80% data for training.\n",
        "train = data[:(int((len(data)*0.8)))]\n",
        "test = data[(int((len(data)*0.8))):]"
      ],
      "execution_count": null,
      "outputs": []
    },
    {
      "cell_type": "code",
      "metadata": {
        "id": "VJqHXmk635X_",
        "colab": {
          "base_uri": "https://localhost:8080/"
        },
        "outputId": "05cd426a-05fe-4e87-be5c-6dd8dd5c133e"
      },
      "source": [
        "# Modeling:\n",
        "# Using sklearn package to model data :\n",
        "regr = linear_model.LinearRegression()\n",
        "train_x = np.array(train[['Hours']])\n",
        "train_y = np.array(train[['Scores']])\n",
        "regr.fit(train_x,train_y)"
      ],
      "execution_count": null,
      "outputs": [
        {
          "output_type": "execute_result",
          "data": {
            "text/plain": [
              "LinearRegression(copy_X=True, fit_intercept=True, n_jobs=None, normalize=False)"
            ]
          },
          "metadata": {
            "tags": []
          },
          "execution_count": 10
        }
      ]
    },
    {
      "cell_type": "code",
      "metadata": {
        "id": "MiSAqhe14DoJ",
        "colab": {
          "base_uri": "https://localhost:8080/"
        },
        "outputId": "295b1a5e-620a-4af1-920a-870f8f4d28c2"
      },
      "source": [
        "# The coefficients:\n",
        "print ('coefficients :',regr.coef_) #Slope\n",
        "print ('Intercept :' ,regr.intercept_) #Intercept"
      ],
      "execution_count": null,
      "outputs": [
        {
          "output_type": "stream",
          "text": [
            "coefficients : [[9.52038609]]\n",
            "Intercept : [3.03128304]\n"
          ],
          "name": "stdout"
        }
      ]
    },
    {
      "cell_type": "code",
      "metadata": {
        "id": "EfVhA-3c4lZD",
        "colab": {
          "base_uri": "https://localhost:8080/",
          "height": 296
        },
        "outputId": "71f9582a-5bfd-48da-e9c4-0f78d6047127"
      },
      "source": [
        "# Plotting the regression line:\n",
        "plt.scatter(train['Hours'], train['Scores'], color='blue')\n",
        "plt.plot(train_x, regr.coef_*train_x + regr.intercept_, '-r')\n",
        "plt.xlabel('Hours')\n",
        "plt.ylabel('Scores')"
      ],
      "execution_count": null,
      "outputs": [
        {
          "output_type": "execute_result",
          "data": {
            "text/plain": [
              "Text(0, 0.5, 'Scores')"
            ]
          },
          "metadata": {
            "tags": []
          },
          "execution_count": 11
        },
        {
          "output_type": "display_data",
          "data": {
            "image/png": "[encoded data removed]",
            "text/plain": [
              "<Figure size 432x288 with 1 Axes>"
            ]
          },
          "metadata": {
            "tags": [],
            "needs_background": "light"
          }
        }
      ]
    },
    {
      "cell_type": "code",
      "metadata": {
        "id": "eyx42FwK5Pir"
      },
      "source": [
        "# Predicting values:\n",
        "# Function for predicting future values :\n",
        "def get_regression_predictions(input_features,intercept,slope):\n",
        " predicted_values = input_features*slope + intercept\n",
        " return predicted_values"
      ],
      "execution_count": null,
      "outputs": []
    },
    {
      "cell_type": "code",
      "metadata": {
        "id": "ibBzLVcb5eBG",
        "colab": {
          "base_uri": "https://localhost:8080/"
        },
        "outputId": "7dd7fb90-a5a4-4a8d-df52-81d0eaca6661"
      },
      "source": [
        "# Predicting emission for future car:\n",
        "my_engine_size = 3.5\n",
        "estimatd_emission = get_regression_predictions(my_engine_size,regr.intercept_[0],regr.coef_[0][0])\n",
        "print ('Estimated Emission :',estimatd_emission)"
      ],
      "execution_count": null,
      "outputs": [
        {
          "output_type": "stream",
          "text": [
            "Estimated Emission : 36.35263437090784\n"
          ],
          "name": "stdout"
        }
      ]
    },
    {
      "cell_type": "code",
      "metadata": {
        "id": "6td8z2ZG5wyK",
        "colab": {
          "base_uri": "https://localhost:8080/"
        },
        "outputId": "c53bee71-75fc-477f-b09e-c54ad18864f9"
      },
      "source": [
        "# Checking various accuracy:\n",
        "from sklearn.metrics import r2_score\n",
        "test_x = np.array(test[['Hours']])\n",
        "test_y = np.array(test[['Scores']])\n",
        "test_y_ = regr.predict(test_x)\n",
        "print('Mean absolute error: %.2f' % np.mean(np.absolute(test_y_ - test_y)))\n",
        "print('Mean sum of squares (MSE): %.2f' % np.mean((test_y_ - test_y) ** 2))\n",
        "print('R2-score: %.2f' % r2_score(test_y_ , test_y) )"
      ],
      "execution_count": null,
      "outputs": [
        {
          "output_type": "stream",
          "text": [
            "Mean absolute error: 5.35\n",
            "Mean sum of squares (MSE): 35.18\n",
            "R2-score: 0.89\n"
          ],
          "name": "stdout"
        }
      ]
    },
    {
      "cell_type": "code",
      "metadata": {
        "id": "pCS_8wDy6pNq",
        "colab": {
          "base_uri": "https://localhost:8080/"
        },
        "outputId": "aed97a20-900c-45c7-d0d0-061c114398b7"
      },
      "source": [
        "hours = int(input('Enter the Total hours played : '))\n",
        "user_pred = regr.predict([[hours]])\n",
        "print(\"No of Hours = {}\".format(hours))\n",
        "print(user_pred[0])\n",
        "print(\"Predicted Scores for Winning A Game = {:.2f} %\".format(user_pred[0][0]))"
      ],
      "execution_count": null,
      "outputs": [
        {
          "output_type": "stream",
          "text": [
            "Enter the Total hours played : 8\n",
            "No of Hours = 8\n",
            "[79.1943718]\n",
            "Predicted Scores for Winning A Game = 79.19 %\n"
          ],
          "name": "stdout"
        }
      ]
    }
  ]
}